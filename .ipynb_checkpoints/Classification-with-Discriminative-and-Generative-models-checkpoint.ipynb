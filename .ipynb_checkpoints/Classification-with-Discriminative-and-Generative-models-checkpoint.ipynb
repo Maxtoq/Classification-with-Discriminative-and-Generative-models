{
 "cells": [
  {
   "cell_type": "markdown",
   "metadata": {},
   "source": [
    "## Imports"
   ]
  },
  {
   "cell_type": "code",
   "execution_count": 2,
   "metadata": {},
   "outputs": [],
   "source": [
    "import pandas as pd\n",
    "import numpy as np\n",
    "import matplotlib.pyplot as plt"
   ]
  },
  {
   "cell_type": "markdown",
   "metadata": {},
   "source": [
    "## Load dataset"
   ]
  },
  {
   "cell_type": "code",
   "execution_count": 4,
   "metadata": {},
   "outputs": [
    {
     "data": {
      "text/html": [
       "<div>\n",
       "<style scoped>\n",
       "    .dataframe tbody tr th:only-of-type {\n",
       "        vertical-align: middle;\n",
       "    }\n",
       "\n",
       "    .dataframe tbody tr th {\n",
       "        vertical-align: top;\n",
       "    }\n",
       "\n",
       "    .dataframe thead th {\n",
       "        text-align: right;\n",
       "    }\n",
       "</style>\n",
       "<table border=\"1\" class=\"dataframe\">\n",
       "  <thead>\n",
       "    <tr style=\"text-align: right;\">\n",
       "      <th></th>\n",
       "      <th>x1</th>\n",
       "      <th>x2</th>\n",
       "      <th>y</th>\n",
       "    </tr>\n",
       "  </thead>\n",
       "  <tbody>\n",
       "    <tr>\n",
       "      <td>0</td>\n",
       "      <td>5.1</td>\n",
       "      <td>3.5</td>\n",
       "      <td>0</td>\n",
       "    </tr>\n",
       "    <tr>\n",
       "      <td>1</td>\n",
       "      <td>4.9</td>\n",
       "      <td>3.0</td>\n",
       "      <td>0</td>\n",
       "    </tr>\n",
       "    <tr>\n",
       "      <td>2</td>\n",
       "      <td>4.7</td>\n",
       "      <td>3.2</td>\n",
       "      <td>0</td>\n",
       "    </tr>\n",
       "    <tr>\n",
       "      <td>3</td>\n",
       "      <td>4.6</td>\n",
       "      <td>3.1</td>\n",
       "      <td>0</td>\n",
       "    </tr>\n",
       "    <tr>\n",
       "      <td>4</td>\n",
       "      <td>5.0</td>\n",
       "      <td>3.6</td>\n",
       "      <td>0</td>\n",
       "    </tr>\n",
       "    <tr>\n",
       "      <td>...</td>\n",
       "      <td>...</td>\n",
       "      <td>...</td>\n",
       "      <td>...</td>\n",
       "    </tr>\n",
       "    <tr>\n",
       "      <td>95</td>\n",
       "      <td>5.7</td>\n",
       "      <td>3.0</td>\n",
       "      <td>1</td>\n",
       "    </tr>\n",
       "    <tr>\n",
       "      <td>96</td>\n",
       "      <td>5.7</td>\n",
       "      <td>2.9</td>\n",
       "      <td>1</td>\n",
       "    </tr>\n",
       "    <tr>\n",
       "      <td>97</td>\n",
       "      <td>6.2</td>\n",
       "      <td>2.9</td>\n",
       "      <td>1</td>\n",
       "    </tr>\n",
       "    <tr>\n",
       "      <td>98</td>\n",
       "      <td>5.1</td>\n",
       "      <td>2.5</td>\n",
       "      <td>1</td>\n",
       "    </tr>\n",
       "    <tr>\n",
       "      <td>99</td>\n",
       "      <td>5.7</td>\n",
       "      <td>2.8</td>\n",
       "      <td>1</td>\n",
       "    </tr>\n",
       "  </tbody>\n",
       "</table>\n",
       "<p>100 rows × 3 columns</p>\n",
       "</div>"
      ],
      "text/plain": [
       "     x1   x2  y\n",
       "0   5.1  3.5  0\n",
       "1   4.9  3.0  0\n",
       "2   4.7  3.2  0\n",
       "3   4.6  3.1  0\n",
       "4   5.0  3.6  0\n",
       "..  ...  ... ..\n",
       "95  5.7  3.0  1\n",
       "96  5.7  2.9  1\n",
       "97  6.2  2.9  1\n",
       "98  5.1  2.5  1\n",
       "99  5.7  2.8  1\n",
       "\n",
       "[100 rows x 3 columns]"
      ]
     },
     "execution_count": 4,
     "metadata": {},
     "output_type": "execute_result"
    }
   ],
   "source": [
    "df = pd.read_csv('data.csv', names=['x1', 'x2', 'y'])\n",
    "df"
   ]
  },
  {
   "cell_type": "code",
   "execution_count": 5,
   "metadata": {},
   "outputs": [
    {
     "data": {
      "text/plain": [
       "<matplotlib.collections.PathCollection at 0x1f2cc9b36c8>"
      ]
     },
     "execution_count": 5,
     "metadata": {},
     "output_type": "execute_result"
    },
    {
     "data": {
      "image/png": "[encoded data removed]",
      "text/plain": [
       "<Figure size 432x288 with 1 Axes>"
      ]
     },
     "metadata": {
      "needs_background": "light"
     },
     "output_type": "display_data"
    }
   ],
   "source": [
    "plt.scatter(df['x1'], df['x2'], c=df['y'])"
   ]
  },
  {
   "cell_type": "markdown",
   "metadata": {},
   "source": [
    "## Train test split"
   ]
  },
  {
   "cell_type": "code",
   "execution_count": 6,
   "metadata": {},
   "outputs": [
    {
     "name": "stdout",
     "output_type": "stream",
     "text": [
      "(80, 2) (80,) (20, 2) (20,)\n"
     ]
    }
   ],
   "source": [
    "# Shuffle data set\n",
    "df = df.sample(frac=1)\n",
    "\n",
    "train, test = df.values[:80], df.values[80:]\n",
    "train_X, train_y = df.drop(columns='y').values[:80], df['y'].values[:80]\n",
    "test_X, test_y = df.drop(columns='y').values[80:], df['y'].values[80:]\n",
    "print(train_X.shape, train_y.shape, test_X.shape, test_y.shape)"
   ]
  },
  {
   "cell_type": "markdown",
   "metadata": {},
   "source": [
    "## Discriminative Model : Logistic Regression"
   ]
  },
  {
   "cell_type": "code",
   "execution_count": 38,
   "metadata": {},
   "outputs": [
    {
     "data": {
      "image/png": "[encoded data removed]",
      "text/plain": [
       "<Figure size 432x288 with 1 Axes>"
      ]
     },
     "metadata": {
      "needs_background": "light"
     },
     "output_type": "display_data"
    },
    {
     "data": {
      "image/png": "[encoded data removed]",
      "text/plain": [
       "<Figure size 432x288 with 1 Axes>"
      ]
     },
     "metadata": {
      "needs_background": "light"
     },
     "output_type": "display_data"
    }
   ],
   "source": [
    "class LRClassifier():\n",
    "    \n",
    "    def __init__(self, n_features):\n",
    "        # Parameters\n",
    "        self.thetas = np.random.normal(0, 1, size=(1, n_features))\n",
    "        \n",
    "        # Learning rate\n",
    "        self.lr = 0.1\n",
    "        \n",
    "        # Accuracy\n",
    "        self.acc = []\n",
    "        \n",
    "        # Log-likelyhood\n",
    "        self.logl = []\n",
    "    \n",
    "    def sigm(self, X):\n",
    "        return 1 / (1 + np.exp(-np.dot(self.thetas, X.T)))\n",
    "    \n",
    "    def compute_logl(self, prob, y):\n",
    "        self.logl.append(np.sum(y * prob + (1 - y) * (1 - prob)))\n",
    "        return self.logl[-1]\n",
    "    \n",
    "    def compute_acc(self, y_pred, y):\n",
    "        self.acc.append((y_pred == y).mean())\n",
    "        return self.acc[-1]\n",
    "    \n",
    "    def compute_grads(self, prob, X, y):\n",
    "        return np.dot((y - prob), X)\n",
    "    \n",
    "    def plot_metrics(self):\n",
    "        plt.plot(np.arange(len(self.acc)), self.acc)\n",
    "        plt.title('Accuracy')\n",
    "        plt.show()\n",
    "        plt.plot(np.arange(len(self.logl)), self.logl)\n",
    "        plt.title('Log-likelyhood')\n",
    "        plt.show()\n",
    "        \n",
    "    def predict(self, X):\n",
    "        prob = self.sigm(X)[0]\n",
    "        y_pred = np.around(prob)\n",
    "        return y_pred\n",
    "    \n",
    "    def fit(self, X, y, nb_epoch=100):\n",
    "        for i in range(nb_epoch):\n",
    "            # Predict class\n",
    "            prob = self.sigm(X)[0]\n",
    "            y_pred = np.around(prob)\n",
    "            \n",
    "            # Compute prediction accuracy and log-likelyhood\n",
    "            self.compute_acc(y_pred, y)\n",
    "            self.compute_logl(prob, y)\n",
    "            \n",
    "            # Update parameter with Gradient Ascent\n",
    "            grads = self.compute_grads(prob, X, y)\n",
    "            self.thetas += self.lr * grads\n",
    "        \n",
    "        self.plot_metrics()\n",
    "            \n",
    "lr = LRClassifier(2)\n",
    "lr.fit(train_X, train_y, nb_epoch=200)"
   ]
  },
  {
   "cell_type": "markdown",
   "metadata": {},
   "source": [
    "## Generative model : Gaussian Discriminant Analysis"
   ]
  },
  {
   "cell_type": "code",
   "execution_count": 26,
   "metadata": {},
   "outputs": [
    {
     "name": "stdout",
     "output_type": "stream",
     "text": [
      "Phi 0.525\n",
      "Mus [[5.02631579 3.44210526]\n",
      " [5.9452381  2.77857143]]\n",
      "CovMat [[0.26487954 0.16946288]\n",
      " [0.16946288 0.18371288]]\n"
     ]
    }
   ],
   "source": [
    "class GDAClassifier():\n",
    "    \n",
    "    def __init__(self, n_features):\n",
    "        # P(Y = 1) = Phi\n",
    "        self.phi = 0\n",
    "        \n",
    "        # Means of X|Y=0 and X|Y=1\n",
    "        self.mus = np.zeros((2, n_features))\n",
    "        \n",
    "        # Covariance matrix\n",
    "        self.cov_mat = np.zeros((n_features, n_features))\n",
    "        \n",
    "    def compute_phi(self, y):\n",
    "        self.phi = np.sum(y) / y.shape[0]\n",
    "        return self.phi\n",
    "    \n",
    "    def compute_mus(self, X, y):\n",
    "        self.mus[0] = np.mean(train_X[train_y == 0], axis=0)\n",
    "        self.mus[1] = np.mean(train_X[train_y == 1], axis=0)\n",
    "        return self.mus\n",
    "    \n",
    "    def compute_cov_mat(self, X, y):\n",
    "        # Compute difference between X and the mean\n",
    "        #print(X, X - self.mus[y])\n",
    "        \"\"\"\n",
    "        Should return a NxN matrix \n",
    "        \"\"\"\n",
    "        I = X.shape[0]\n",
    "        cov = np.zeros(self.cov_mat.shape)\n",
    "        \n",
    "        for i in range(I):\n",
    "            temp = np.zeros(X.shape[1])\n",
    "            if y[i] == 0:\n",
    "                temp = X[i] - self.mus[0]\n",
    "                cov += np.dot(temp.T, temp)\n",
    "            elif y[i] == 1:\n",
    "                temp = np.matrix(X[i]) - self.mus[1]\n",
    "                cov += np.dot(temp.T, temp)\n",
    "\n",
    "        self.cov_mat = cov / I\n",
    "        return self.cov_mat\n",
    "    \n",
    "    def c_px_y0(self, X):\n",
    "        det_cov = np.linalg.det(self.cov_mat)\n",
    "        inv_cov = np.linalg.inv(self.cov_mat)\n",
    "        N = X.shape[0]\n",
    "        pi = np.pi\n",
    "        \n",
    "        px_y0 = (1 / (((2 * pi)**(N / 2)) * np.sqrt(det_cov))) * np.exp(-np.linalg.multi_dot([X.T - self.mus[0], inv_cov \\\n",
    "                , X - self.mus[0]]))\n",
    "       \n",
    "        return px_y0\n",
    "\n",
    "    def c_px_y1(self, X):\n",
    "        det_cov = np.linalg.det(self.cov_mat)\n",
    "        inv_cov = np.linalg.inv(self.cov_mat)\n",
    "        N = X.shape[0]\n",
    "        pi = np.pi\n",
    "        \n",
    "        px_y1 = (1 / (((2 * pi)**(N / 2)) * np.sqrt(det_cov))) * np.exp(-np.linalg.multi_dot([X.T - self.mus[1], inv_cov \\\n",
    "                , X - self.mus[1]]))\n",
    "\n",
    "        return px_y1\n",
    "    \n",
    "    def c_py(self, y):\n",
    "        p_y = self.phi**(y) * (1 - self.phi)**(1 - y)\n",
    "\n",
    "        return p_y\n",
    "    \n",
    "    def predict(self, X):\n",
    "        py0 = self.c_py(0)\n",
    "        py1 = self.c_py(1)\n",
    "        y_pred = []\n",
    "        \n",
    "        for i in range(X.shape[0]):\n",
    "            px_y0 = self.c_px_y0(X[i])\n",
    "            px_y1 = self.c_px_y1(X[i])\n",
    "            \n",
    "            if px_y0 * py0 > px_y1 * py1:\n",
    "                y_pred.append(0)\n",
    "            elif px_y1 * py1 > px_y0 * py0:\n",
    "                y_pred.append(1)\n",
    "        \n",
    "        return np.array(y_pred)\n",
    "    \n",
    "    def fit(self, X, y):\n",
    "        print('Phi', self.compute_phi(y))\n",
    "        \n",
    "        print('Mus', self.compute_mus(X, y))\n",
    "        \n",
    "        print('CovMat', self.compute_cov_mat(X, y))\n",
    "        \n",
    "gda = GDAClassifier(2)\n",
    "gda.fit(train_X, train_y)"
   ]
  },
  {
   "cell_type": "markdown",
   "metadata": {},
   "source": [
    "## Predict with the two models"
   ]
  },
  {
   "cell_type": "code",
   "execution_count": 39,
   "metadata": {},
   "outputs": [
    {
     "name": "stdout",
     "output_type": "stream",
     "text": [
      "Accuracy with LR: 1.0\n",
      "Accuracy with GDA: 1.0\n"
     ]
    }
   ],
   "source": [
    "y_pred_LR = lr.predict(test_X)\n",
    "y_pred_GDA = gda.predict(test_X)\n",
    "\n",
    "print('Accuracy with LR:', lr.compute_acc(y_pred_LR, test_y))\n",
    "print('Accuracy with GDA:', lr.compute_acc(y_pred_GDA, test_y))"
   ]
  }
 ],
 "metadata": {
  "kernelspec": {
   "display_name": "Python 3",
   "language": "python",
   "name": "python3"
  },
  "language_info": {
   "codemirror_mode": {
    "name": "ipython",
    "version": 3
   },
   "file_extension": ".py",
   "mimetype": "text/x-python",
   "name": "python",
   "nbconvert_exporter": "python",
   "pygments_lexer": "ipython3",
   "version": "3.7.4"
  }
 },
 "nbformat": 4,
 "nbformat_minor": 2
}
