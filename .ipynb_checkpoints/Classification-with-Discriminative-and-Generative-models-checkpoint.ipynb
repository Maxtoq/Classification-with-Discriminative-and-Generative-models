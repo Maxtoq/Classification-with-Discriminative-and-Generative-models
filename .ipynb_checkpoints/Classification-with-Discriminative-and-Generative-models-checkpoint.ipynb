{
 "cells": [
  {
   "cell_type": "markdown",
   "metadata": {},
   "source": [
    "## Imports"
   ]
  },
  {
   "cell_type": "code",
   "execution_count": 1,
   "metadata": {},
   "outputs": [],
   "source": [
    "import pandas as pd\n",
    "import numpy as np\n",
    "import matplotlib.pyplot as plt"
   ]
  },
  {
   "cell_type": "markdown",
   "metadata": {},
   "source": [
    "## Load dataset"
   ]
  },
  {
   "cell_type": "code",
   "execution_count": 2,
   "metadata": {},
   "outputs": [
    {
     "data": {
      "text/html": [
       "<div>\n",
       "<style scoped>\n",
       "    .dataframe tbody tr th:only-of-type {\n",
       "        vertical-align: middle;\n",
       "    }\n",
       "\n",
       "    .dataframe tbody tr th {\n",
       "        vertical-align: top;\n",
       "    }\n",
       "\n",
       "    .dataframe thead th {\n",
       "        text-align: right;\n",
       "    }\n",
       "</style>\n",
       "<table border=\"1\" class=\"dataframe\">\n",
       "  <thead>\n",
       "    <tr style=\"text-align: right;\">\n",
       "      <th></th>\n",
       "      <th>x1</th>\n",
       "      <th>x2</th>\n",
       "      <th>y</th>\n",
       "    </tr>\n",
       "  </thead>\n",
       "  <tbody>\n",
       "    <tr>\n",
       "      <td>0</td>\n",
       "      <td>5.1</td>\n",
       "      <td>3.5</td>\n",
       "      <td>0</td>\n",
       "    </tr>\n",
       "    <tr>\n",
       "      <td>1</td>\n",
       "      <td>4.9</td>\n",
       "      <td>3.0</td>\n",
       "      <td>0</td>\n",
       "    </tr>\n",
       "    <tr>\n",
       "      <td>2</td>\n",
       "      <td>4.7</td>\n",
       "      <td>3.2</td>\n",
       "      <td>0</td>\n",
       "    </tr>\n",
       "    <tr>\n",
       "      <td>3</td>\n",
       "      <td>4.6</td>\n",
       "      <td>3.1</td>\n",
       "      <td>0</td>\n",
       "    </tr>\n",
       "    <tr>\n",
       "      <td>4</td>\n",
       "      <td>5.0</td>\n",
       "      <td>3.6</td>\n",
       "      <td>0</td>\n",
       "    </tr>\n",
       "    <tr>\n",
       "      <td>...</td>\n",
       "      <td>...</td>\n",
       "      <td>...</td>\n",
       "      <td>...</td>\n",
       "    </tr>\n",
       "    <tr>\n",
       "      <td>95</td>\n",
       "      <td>5.7</td>\n",
       "      <td>3.0</td>\n",
       "      <td>1</td>\n",
       "    </tr>\n",
       "    <tr>\n",
       "      <td>96</td>\n",
       "      <td>5.7</td>\n",
       "      <td>2.9</td>\n",
       "      <td>1</td>\n",
       "    </tr>\n",
       "    <tr>\n",
       "      <td>97</td>\n",
       "      <td>6.2</td>\n",
       "      <td>2.9</td>\n",
       "      <td>1</td>\n",
       "    </tr>\n",
       "    <tr>\n",
       "      <td>98</td>\n",
       "      <td>5.1</td>\n",
       "      <td>2.5</td>\n",
       "      <td>1</td>\n",
       "    </tr>\n",
       "    <tr>\n",
       "      <td>99</td>\n",
       "      <td>5.7</td>\n",
       "      <td>2.8</td>\n",
       "      <td>1</td>\n",
       "    </tr>\n",
       "  </tbody>\n",
       "</table>\n",
       "<p>100 rows × 3 columns</p>\n",
       "</div>"
      ],
      "text/plain": [
       "     x1   x2  y\n",
       "0   5.1  3.5  0\n",
       "1   4.9  3.0  0\n",
       "2   4.7  3.2  0\n",
       "3   4.6  3.1  0\n",
       "4   5.0  3.6  0\n",
       "..  ...  ... ..\n",
       "95  5.7  3.0  1\n",
       "96  5.7  2.9  1\n",
       "97  6.2  2.9  1\n",
       "98  5.1  2.5  1\n",
       "99  5.7  2.8  1\n",
       "\n",
       "[100 rows x 3 columns]"
      ]
     },
     "execution_count": 2,
     "metadata": {},
     "output_type": "execute_result"
    }
   ],
   "source": [
    "df = pd.read_csv('data.csv', names=['x1', 'x2', 'y'])\n",
    "df"
   ]
  },
  {
   "cell_type": "code",
   "execution_count": 3,
   "metadata": {},
   "outputs": [
    {
     "data": {
      "text/plain": [
       "<matplotlib.collections.PathCollection at 0x259569e2708>"
      ]
     },
     "execution_count": 3,
     "metadata": {},
     "output_type": "execute_result"
    },
    {
     "data": {
      "image/png": "[encoded data removed]",
      "text/plain": [
       "<Figure size 432x288 with 1 Axes>"
      ]
     },
     "metadata": {
      "needs_background": "light"
     },
     "output_type": "display_data"
    }
   ],
   "source": [
    "plt.scatter(df['x1'], df['x2'], c=df['y'])"
   ]
  },
  {
   "cell_type": "markdown",
   "metadata": {},
   "source": [
    "## Train test split"
   ]
  },
  {
   "cell_type": "code",
   "execution_count": 4,
   "metadata": {},
   "outputs": [
    {
     "name": "stdout",
     "output_type": "stream",
     "text": [
      "(80, 2) (80,) (20, 2) (20,)\n"
     ]
    }
   ],
   "source": [
    "# Shuffle data set\n",
    "df = df.sample(frac=1)\n",
    "\n",
    "train, test = df.values[:80], df.values[80:]\n",
    "train_X, train_y = df.drop(columns='y').values[:80], df['y'].values[:80]\n",
    "test_X, test_y = df.drop(columns='y').values[80:], df['y'].values[80:]\n",
    "print(train_X.shape, train_y.shape, test_X.shape, test_y.shape)"
   ]
  },
  {
   "cell_type": "markdown",
   "metadata": {},
   "source": [
    "## Discriminative Model : Logistic Regression"
   ]
  },
  {
   "cell_type": "code",
   "execution_count": 49,
   "metadata": {},
   "outputs": [
    {
     "data": {
      "image/png": "[encoded data removed]",
      "text/plain": [
       "<Figure size 432x288 with 1 Axes>"
      ]
     },
     "metadata": {
      "needs_background": "light"
     },
     "output_type": "display_data"
    },
    {
     "data": {
      "image/png": "[encoded data removed]",
      "text/plain": [
       "<Figure size 432x288 with 1 Axes>"
      ]
     },
     "metadata": {
      "needs_background": "light"
     },
     "output_type": "display_data"
    }
   ],
   "source": [
    "class LRClassifier():\n",
    "    \n",
    "    def __init__(self, n_features):\n",
    "        # Parameters\n",
    "        self.thetas = np.random.normal(0, 1, size=(1, n_features))\n",
    "        \n",
    "        # Learning rate\n",
    "        self.lr = 0.1\n",
    "        \n",
    "        # Accuracy\n",
    "        self.acc = []\n",
    "        \n",
    "        # Log-likelyhood\n",
    "        self.logl = []\n",
    "    \n",
    "    def sigm(self, X):\n",
    "        return 1 / (1 + np.exp(-np.dot(self.thetas, X.T)))\n",
    "    \n",
    "    def compute_logl(self, prob, y):\n",
    "        self.logl.append(np.sum(y * prob + (1 - y) * (1 - prob)))\n",
    "        return self.logl[-1]\n",
    "    \n",
    "    def compute_acc(self, y_pred, y):\n",
    "        self.acc.append((y_pred == y).mean())\n",
    "        return self.acc[-1]\n",
    "    \n",
    "    def compute_grads(self, prob, X, y):\n",
    "        return np.dot((y - prob), X)\n",
    "    \n",
    "    def plot_metrics(self):\n",
    "        plt.plot(np.arange(len(self.acc)), self.acc)\n",
    "        plt.title('Accuracy')\n",
    "        plt.show()\n",
    "        plt.plot(np.arange(len(self.logl)), self.logl)\n",
    "        plt.title('Log-likelyhood')\n",
    "        plt.show()\n",
    "    \n",
    "    def fit(self, X, y, nb_epoch=100):\n",
    "        for i in range(nb_epoch):\n",
    "            # Predict class\n",
    "            prob = self.sigm(X)[0]\n",
    "            y_pred = np.around(prob)\n",
    "            \n",
    "            # Compute prediction accuracy and log-likelyhood\n",
    "            self.compute_acc(y_pred, y)\n",
    "            self.compute_logl(prob, y)\n",
    "            \n",
    "            # Update parameter with Gradient Ascent\n",
    "            grads = self.compute_grads(prob, X, y)\n",
    "            self.thetas += self.lr * grads\n",
    "        \n",
    "        self.plot_metrics()\n",
    "            \n",
    "model = LRClassifier(2)\n",
    "model.fit(train_X, train_y, nb_epoch=200)"
   ]
  },
  {
   "cell_type": "markdown",
   "metadata": {},
   "source": [
    "## Generative model : Gaussian Discriminant Analysis"
   ]
  },
  {
   "cell_type": "code",
   "execution_count": 55,
   "metadata": {},
   "outputs": [
    {
     "name": "stdout",
     "output_type": "stream",
     "text": [
      "Phi 0.525\n",
      "Mus [[5.04210526 3.46578947]\n",
      " [5.9952381  2.78571429]]\n",
      "[[5.6 2.7]\n",
      " [5.5 4.2]\n",
      " [5.5 2.3]\n",
      " [4.9 3.1]\n",
      " [6.3 3.3]\n",
      " [6.2 2.2]\n",
      " [5.7 4.4]\n",
      " [4.7 3.2]\n",
      " [5.1 3.8]\n",
      " [5.9 3. ]\n",
      " [5.  3.2]\n",
      " [5.8 2.7]\n",
      " [6.  2.9]\n",
      " [5.  3. ]\n",
      " [4.4 3.2]\n",
      " [5.5 3.5]\n",
      " [5.4 3.4]\n",
      " [6.5 2.8]\n",
      " [5.1 3.5]\n",
      " [4.4 3. ]\n",
      " [5.6 2.5]\n",
      " [5.  3.5]\n",
      " [5.  3.3]\n",
      " [4.7 3.2]\n",
      " [5.4 3. ]\n",
      " [5.1 3.4]\n",
      " [5.1 2.5]\n",
      " [5.7 2.8]\n",
      " [5.6 3. ]\n",
      " [6.  2.7]\n",
      " [5.4 3.9]\n",
      " [6.  2.2]\n",
      " [6.7 3.1]\n",
      " [6.1 2.8]\n",
      " [5.2 4.1]\n",
      " [4.6 3.4]\n",
      " [5.3 3.7]\n",
      " [5.5 2.4]\n",
      " [7.  3.2]\n",
      " [6.9 3.1]\n",
      " [5.1 3.8]\n",
      " [6.6 2.9]\n",
      " [5.5 2.5]\n",
      " [6.4 2.9]\n",
      " [5.7 2.9]\n",
      " [4.9 3. ]\n",
      " [5.8 2.7]\n",
      " [6.3 2.3]\n",
      " [6.1 2.8]\n",
      " [6.7 3.1]\n",
      " [4.4 2.9]\n",
      " [6.1 3. ]\n",
      " [5.7 3.8]\n",
      " [5.4 3.7]\n",
      " [4.8 3.1]\n",
      " [6.3 2.5]\n",
      " [5.6 3. ]\n",
      " [5.9 3.2]\n",
      " [6.1 2.9]\n",
      " [5.6 2.9]\n",
      " [5.1 3.3]\n",
      " [5.5 2.4]\n",
      " [5.  2.3]\n",
      " [5.1 3.7]\n",
      " [6.2 2.9]\n",
      " [5.  3.4]\n",
      " [5.4 3.9]\n",
      " [4.6 3.6]\n",
      " [4.8 3.4]\n",
      " [4.9 3.1]\n",
      " [4.3 3. ]\n",
      " [4.9 3.1]\n",
      " [6.7 3. ]\n",
      " [6.8 2.8]\n",
      " [5.2 3.5]\n",
      " [5.8 4. ]\n",
      " [5.7 2.8]\n",
      " [6.  3.4]\n",
      " [5.2 3.4]\n",
      " [5.8 2.6]] [[-0.3952381  -0.08571429]\n",
      " [ 0.45789474  0.73421053]\n",
      " [-0.4952381  -0.48571429]\n",
      " [-0.14210526 -0.36578947]\n",
      " [ 0.3047619   0.51428571]\n",
      " [ 0.2047619  -0.58571429]\n",
      " [ 0.65789474  0.93421053]\n",
      " [-0.34210526 -0.26578947]\n",
      " [ 0.05789474  0.33421053]\n",
      " [-0.0952381   0.21428571]\n",
      " [-0.04210526 -0.26578947]\n",
      " [-0.1952381  -0.08571429]\n",
      " [ 0.0047619   0.11428571]\n",
      " [-0.04210526 -0.46578947]\n",
      " [-0.64210526 -0.26578947]\n",
      " [ 0.45789474  0.03421053]\n",
      " [ 0.35789474 -0.06578947]\n",
      " [ 0.5047619   0.01428571]\n",
      " [ 0.05789474  0.03421053]\n",
      " [-0.64210526 -0.46578947]\n",
      " [-0.3952381  -0.28571429]\n",
      " [-0.04210526  0.03421053]\n",
      " [-0.04210526 -0.16578947]\n",
      " [-0.34210526 -0.26578947]\n",
      " [-0.5952381   0.21428571]\n",
      " [ 0.05789474 -0.06578947]\n",
      " [-0.8952381  -0.28571429]\n",
      " [-0.2952381   0.01428571]\n",
      " [-0.3952381   0.21428571]\n",
      " [ 0.0047619  -0.08571429]\n",
      " [ 0.35789474  0.43421053]\n",
      " [ 0.0047619  -0.58571429]\n",
      " [ 0.7047619   0.31428571]\n",
      " [ 0.1047619   0.01428571]\n",
      " [ 0.15789474  0.63421053]\n",
      " [-0.44210526 -0.06578947]\n",
      " [ 0.25789474  0.23421053]\n",
      " [-0.4952381  -0.38571429]\n",
      " [ 1.0047619   0.41428571]\n",
      " [ 0.9047619   0.31428571]\n",
      " [ 0.05789474  0.33421053]\n",
      " [ 0.6047619   0.11428571]\n",
      " [-0.4952381  -0.28571429]\n",
      " [ 0.4047619   0.11428571]\n",
      " [-0.2952381   0.11428571]\n",
      " [-0.14210526 -0.46578947]\n",
      " [-0.1952381  -0.08571429]\n",
      " [ 0.3047619  -0.48571429]\n",
      " [ 0.1047619   0.01428571]\n",
      " [ 0.7047619   0.31428571]\n",
      " [-0.64210526 -0.56578947]\n",
      " [ 0.1047619   0.21428571]\n",
      " [ 0.65789474  0.33421053]\n",
      " [ 0.35789474  0.23421053]\n",
      " [-0.24210526 -0.36578947]\n",
      " [ 0.3047619  -0.28571429]\n",
      " [-0.3952381   0.21428571]\n",
      " [-0.0952381   0.41428571]\n",
      " [ 0.1047619   0.11428571]\n",
      " [-0.3952381   0.11428571]\n",
      " [ 0.05789474 -0.16578947]\n",
      " [-0.4952381  -0.38571429]\n",
      " [-0.9952381  -0.48571429]\n",
      " [ 0.05789474  0.23421053]\n",
      " [ 0.2047619   0.11428571]\n",
      " [-0.04210526 -0.06578947]\n",
      " [ 0.35789474  0.43421053]\n",
      " [-0.44210526  0.13421053]\n",
      " [-0.24210526 -0.06578947]\n",
      " [-0.14210526 -0.36578947]\n",
      " [-0.74210526 -0.46578947]\n",
      " [-0.14210526 -0.36578947]\n",
      " [ 0.7047619   0.21428571]\n",
      " [ 0.8047619   0.01428571]\n",
      " [ 0.15789474  0.03421053]\n",
      " [ 0.75789474  0.53421053]\n",
      " [-0.2952381   0.01428571]\n",
      " [ 0.0047619   0.61428571]\n",
      " [ 0.15789474 -0.06578947]\n",
      " [-0.1952381  -0.18571429]]\n",
      "CovMat None\n"
     ]
    }
   ],
   "source": [
    "class GDAClassifier():\n",
    "    \n",
    "    def __init__(self, n_features):\n",
    "        # P(Y = 1) = Phi\n",
    "        self.phi = 0\n",
    "        \n",
    "        # Means of X|Y=0 and X|Y=1\n",
    "        self.mus = np.zeros((2, n_features))\n",
    "        \n",
    "        # Covariance matrix\n",
    "        self.cov_mat = np.zeros((n_features, n_features))\n",
    "        \n",
    "    def compute_phi(self, y):\n",
    "        self.phi = np.sum(y) / y.shape[0]\n",
    "        return self.phi\n",
    "    \n",
    "    def compute_mus(self, X, y):\n",
    "        self.mus[0] = np.mean(train_X[train_y == 0], axis=0)\n",
    "        self.mus[1] = np.mean(train_X[train_y == 1], axis=0)\n",
    "        return self.mus\n",
    "    \n",
    "    def compute_cov_mat(self, X, y):\n",
    "        # Compute difference between X and the mean\n",
    "        print(X, X - self.mus[y])\n",
    "    \n",
    "    def fit(self, X, y):\n",
    "        print('Phi', self.compute_phi(y))\n",
    "        \n",
    "        print('Mus', self.compute_mus(X, y))\n",
    "        \n",
    "        print('CovMat', self.compute_cov_mat(X, y))\n",
    "        \n",
    "gda = GDAClassifier(2)\n",
    "gda.fit(train_X, train_y)"
   ]
  },
  {
   "cell_type": "code",
   "execution_count": 22,
   "metadata": {},
   "outputs": [
    {
     "data": {
      "text/plain": [
       "array([5.04210526, 3.46578947])"
      ]
     },
     "execution_count": 22,
     "metadata": {},
     "output_type": "execute_result"
    }
   ],
   "source": [
    "np.mean(train_X[train_y == 0], axis=0)"
   ]
  },
  {
   "cell_type": "code",
   "execution_count": 13,
   "metadata": {},
   "outputs": [
    {
     "data": {
      "text/plain": [
       "array([0, 1, 0, 1, 0, 0, 1, 1, 1, 0, 1, 0, 0, 1, 1, 1, 1, 0, 1, 1, 0, 1,\n",
       "       1, 1, 0, 1, 0, 0, 0, 0, 1, 0, 0, 0, 1, 1, 1, 0, 0, 0, 1, 0, 0, 0,\n",
       "       0, 1, 0, 0, 0, 0, 1, 0, 1, 1, 1, 0, 0, 0, 0, 0, 1, 0, 0, 1, 0, 1,\n",
       "       1, 1, 1, 1, 1, 1, 0, 0, 1, 1, 0, 0, 1, 0], dtype=int64)"
      ]
     },
     "execution_count": 13,
     "metadata": {},
     "output_type": "execute_result"
    }
   ],
   "source": [
    "1 - train_y"
   ]
  }
 ],
 "metadata": {
  "kernelspec": {
   "display_name": "Python 3",
   "language": "python",
   "name": "python3"
  },
  "language_info": {
   "codemirror_mode": {
    "name": "ipython",
    "version": 3
   },
   "file_extension": ".py",
   "mimetype": "text/x-python",
   "name": "python",
   "nbconvert_exporter": "python",
   "pygments_lexer": "ipython3",
   "version": "3.7.4"
  }
 },
 "nbformat": 4,
 "nbformat_minor": 2
}
